{
 "cells": [
  {
   "cell_type": "code",
   "execution_count": null,
   "id": "9d0e199c-2aaa-4f87-a388-f744dd85b700",
   "metadata": {},
   "outputs": [],
   "source": []
  }
 ],
 "metadata": {
  "kernelspec": {
   "display_name": "",
   "name": ""
  },
  "language_info": {
   "name": ""
  }
 },
 "nbformat": 4,
 "nbformat_minor": 5
}
